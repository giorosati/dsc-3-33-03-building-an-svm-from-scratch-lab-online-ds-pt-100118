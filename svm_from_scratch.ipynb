{
 "cells": [
  {
   "cell_type": "markdown",
   "metadata": {},
   "source": [
    "# Building an SVM from Scratch - My Version"
   ]
  },
  {
   "cell_type": "markdown",
   "metadata": {},
   "source": [
    "Based on turotial by sentdex on Mahine Learning with Python.\n",
    "\n",
    "Lesson here: https://pythonprogramming.net/q-learning-reinforcement-learning-python-tutorial/\n",
    "\n",
    "Youtube videos here:\n",
    "\n",
    "https://www.youtube.com/watch?v=AbVtcUBlBok&list=PLQVvvaa0QuDfKTOs3Keq_kaG2P55YRn5v&index=25"
   ]
  },
  {
   "cell_type": "code",
   "execution_count": 3,
   "metadata": {},
   "outputs": [],
   "source": [
    "#imports\n",
    "# import matplotlib as plt #original import\n",
    "import matplotlib.pyplot as plt\n",
    "from matplotlib import style\n",
    "import numpy as np\n",
    "style.use('ggplot')"
   ]
  },
  {
   "cell_type": "code",
   "execution_count": 4,
   "metadata": {},
   "outputs": [],
   "source": [
    "data_dict = {-1:np.array([[1,7],[2,8],[3,8]]),\n",
    "             1:np.array([[5,1],[6,-1],[7,3]])}"
   ]
  },
  {
   "cell_type": "code",
   "execution_count": 17,
   "metadata": {},
   "outputs": [],
   "source": [
    "class Support_Vector_Machine:\n",
    "    def __init__(self, visualization=True):\n",
    "        self.visualization = visualization\n",
    "        self.colors = {1:'r', -1:'b'}\n",
    "        if self.visualization:\n",
    "            self.fig = plt.figure()\n",
    "            self.ax = self.fig.add_subplot(1,1,1)\n",
    "    \n",
    "    #train\n",
    "    def fit(self, data):\n",
    "        #need to figure out w and b\n",
    "        self.data = data\n",
    "#         { ||w|| : [w,b]}  \n",
    "#         create a dictionary where the key is the magnitude of w,\n",
    "#         and the value for each key is the w and b values.\n",
    "        opt_dict = {}\n",
    "        \n",
    "    # for magnitude, the sign doesn't matter, but for each w the sign matters\n",
    "        transforms = [[1,1], [1,-1], [-1,1], [-1,-1]]  #have to try out each sign of the w values\n",
    "        \n",
    "        all_data = [] # get all the values for each feature, store in one list\n",
    "        for yi in self.data:\n",
    "            for featureset in self.data[yi]:\n",
    "                for feature in featureset:\n",
    "                    all_data.append(feature)\n",
    "        \n",
    "        self.max_feature_value = max(all_data)\n",
    "        self.min_feature_value = min(all_data)\n",
    "        all_data = None  #clear the all_data list\n",
    "        \n",
    "        step_sizes = [self.max_feature_value * 0.1,\n",
    "                     self.max_feature_value * 0.01,\n",
    "                     self.max_feature_value * 0.001]  #point of \"expense\"\n",
    "        \n",
    "        # support vectors will be  yi(xi * w + b) = 1\n",
    "        # when it gets really close to 1 it has been \"optimized\", although some cannot be optimized\n",
    "        \n",
    "        # extremely \"expensive\" to try out different values for b\n",
    "        b_range_multiple = 5\n",
    "        \n",
    "        # \n",
    "        b_multiple = 5\n",
    "        \n",
    "        latest_optimum = self.max_feature_value * 10   #this is to save a lot of processing\n",
    "        \n",
    "        #stepping process\n",
    "        for step in step_sizes:\n",
    "            w = np.array([latest_optimum, latest_optimum])\n",
    "            \n",
    "            # we can only do this because the problem is convex\n",
    "            optimized = False\n",
    "            \n",
    "            while not optimized:\n",
    "                # this could instead have a range of values like used for step_sizee, but takes\n",
    "                # alot of processing\n",
    "                for b in np.arange(-1 * (self.max_feature_value * b_range_multiple),\n",
    "                                   self.max_feature_value * b_range_multiple, step * b_multiple):\n",
    "                    for transformation in transforms:\n",
    "                        w_t = w * transformation\n",
    "                        found_option = True\n",
    "                        # weakest link, SMO attempts to address this\n",
    "                        # yi(xi*w+b) >=1  this is the goal each time\n",
    "                        #\n",
    "                        # #### could make a break here to save processing\n",
    "                        for i in self.data:\n",
    "                            for xi in self.data[i]:  #could call xi \"y\" instead\n",
    "                                yi=i\n",
    "                                if not yi * (np.dot(w_t, xi) + b) >= 1:\n",
    "                                    found_option = False\n",
    "                                    \n",
    "                        if found_option:\n",
    "                            opt_dict[np.linalg.norm(w_t)] = [w_t, b]\n",
    "                if w[0] < 0:\n",
    "                    optimized = True\n",
    "                    print('Optimized a step, w is {} and b is {}'.format(w, b))\n",
    "                else:\n",
    "                    # w = [5,5]\n",
    "                    # step = 1\n",
    "                    # w - step = [4,4]\n",
    "                    w = w - step\n",
    "                                \n",
    "            norms = sorted([n for n in opt_dict])\n",
    "            opt_choice = opt_dict[norms[0]]\n",
    "            \n",
    "            self.w = opt_choice[0]\n",
    "            self.b = opt_choice[1]\n",
    "            latest_optimum = opt_choice[0][0]\n",
    "        \n",
    "        \n",
    "    #predict\n",
    "    def predict(self, features):\n",
    "        #sign of (x*w+b) determines the classification\n",
    "        classification = np.sign(np.dot(np.array(features), self.w) + self.b)\n",
    "        if classification !=0 and self.visualization:\n",
    "            self.ax.scatter(features[0], features[1], marker = '*', c = self.colors[classification])\n",
    "        return classification\n",
    "    \n",
    "    def visualize(self):\n",
    "        [[self.ax.scatter(x[0], x[1], s=100, color=self.colors[i]) \n",
    "        for x in data_dict[i]] for i in data_dict]\n",
    "        \n",
    "        #hyperplace = x*w+b\n",
    "        # we want v = x*w+b\n",
    "        # psv = 1\n",
    "        # nsv = -1\n",
    "        # dec = 0\n",
    "        def hyperplane(x,w,b,v):\n",
    "            return (-w[0]* x - b +v) / w[1]\n",
    "        \n",
    "        datarange = (self.min_feature_value * .9, self.max_feature_value * 1.1)\n",
    "        hyp_x_min = datarange[0]\n",
    "        hyp_x_max = datarange[1]\n",
    "        \n",
    "        # (x + x +b) = 1\n",
    "        # positive support vector hyperplace\n",
    "        psv1 = hyperplane(hyp_x_min, self.w, self.b, 1)\n",
    "        psv2 = hyperplane(hyp_x_max, self.w, self.b, 1)\n",
    "        self.ax.plot([hyp_x_min, hyp_x_max], [psv1, psv2], 'r')\n",
    "        \n",
    "        # (x + x +b) = -1\n",
    "        # negative support vector hyperplace\n",
    "        nsv1 = hyperplane(hyp_x_min, self.w, self.b, -1)\n",
    "        nsv2 = hyperplane(hyp_x_max, self.w, self.b, -1)\n",
    "        self.ax.plot([hyp_x_min, hyp_x_max], [nsv1, nsv2], 'b')\n",
    "        \n",
    "        # (x + x +b) = 0\n",
    "        # decision boundary vector hyperplace\n",
    "        db1 = hyperplane(hyp_x_min, self.w, self.b, 0)\n",
    "        db2 = hyperplane(hyp_x_max, self.w, self.b, 0)\n",
    "        self.ax.plot([hyp_x_min, hyp_x_max], [db1, db2], 'y--')\n",
    "        \n",
    "        plt.show()\n",
    "            "
   ]
  },
  {
   "cell_type": "code",
   "execution_count": 18,
   "metadata": {},
   "outputs": [
    {
     "name": "stdout",
     "output_type": "stream",
     "text": [
      "Optimized a step, w is [-0.8 -0.8] and b is 36.0\n",
      "Optimized a step, w is [-1.50240931e-13 -1.50240931e-13] and b is 39.59999999999971\n",
      "Optimized a step, w is [-1.5043522e-13 -1.5043522e-13] and b is 39.9599999999983\n"
     ]
    },
    {
     "data": {
      "image/png": "[encoded data removed]",
      "text/plain": [
       "<Figure size 432x288 with 1 Axes>"
      ]
     },
     "metadata": {
      "needs_background": "light"
     },
     "output_type": "display_data"
    }
   ],
   "source": [
    "svm = Support_Vector_Machine()\n",
    "svm.fit(data_dict)\n",
    "\n",
    "predict_us = [[0,10],\n",
    "              [1,3],\n",
    "              [3,4],\n",
    "              [3,5],\n",
    "              [5,5],\n",
    "              [5,6],\n",
    "              [6,-5],\n",
    "              [5,8],]\n",
    "\n",
    "for p in predict_us:\n",
    "    svm.predict(p)\n",
    "\n",
    "svm.visualize()"
   ]
  },
  {
   "cell_type": "code",
   "execution_count": 13,
   "metadata": {},
   "outputs": [],
   "source": []
  },
  {
   "cell_type": "code",
   "execution_count": 14,
   "metadata": {},
   "outputs": [],
   "source": []
  },
  {
   "cell_type": "code",
   "execution_count": null,
   "metadata": {},
   "outputs": [],
   "source": [
    "# below this section is the original Flatiron version"
   ]
  },
  {
   "cell_type": "markdown",
   "metadata": {},
   "source": [
    "## Introduction"
   ]
  },
  {
   "cell_type": "markdown",
   "metadata": {},
   "source": [
    "In this lab, you'll program a simple Support Vector Machine from scratch!"
   ]
  },
  {
   "cell_type": "markdown",
   "metadata": {},
   "source": [
    "## Objectives"
   ]
  },
  {
   "cell_type": "markdown",
   "metadata": {},
   "source": [
    "You will be able to:\n",
    "- Build a simple linear max-margin classifier from scratch\n",
    "- Build a simple soft-margin classifier from scratch\n"
   ]
  },
  {
   "cell_type": "markdown",
   "metadata": {},
   "source": [
    "## The Data"
   ]
  },
  {
   "cell_type": "markdown",
   "metadata": {},
   "source": [
    "Support Vector Machines can be used on problem cases where we have an $n$-dimensional feature space. For teaching purposes, however, we use a 2-dimensional feature space so you can see what exactly is going on when using support vector machines.\n",
    "\n",
    "Scikit-learn has excellent data sets generator. one of them is `make_blobs`. Below, you can find the code to create two blobs using the `make_blobs` function. We will use this data to build our own SVM from scratch! "
   ]
  },
  {
   "cell_type": "code",
   "execution_count": 1,
   "metadata": {},
   "outputs": [
    {
     "data": {
      "image/png": "[encoded data removed]",
      "text/plain": [
       "<Figure size 360x360 with 1 Axes>"
      ]
     },
     "metadata": {},
     "output_type": "display_data"
    }
   ],
   "source": [
    "from sklearn.datasets import make_blobs\n",
    "import matplotlib.pyplot as plt\n",
    "%matplotlib inline  \n",
    "import numpy as np\n",
    "\n",
    "plt.figure(figsize=(5, 5))\n",
    "\n",
    "plt.title(\"Two blobs\")\n",
    "X, labels = make_blobs(n_features = 2, centers = 2, cluster_std=1.25,  random_state = 123)\n",
    "plt.scatter(X[:, 0], X[:, 1], c = labels, s=25);"
   ]
  },
  {
   "cell_type": "markdown",
   "metadata": {},
   "source": [
    "## Building a Max Margin Classifier\n",
    "Recall from the previous lesson that creating a support vector machine actually boils down to solving a convex optimization problem. You can use the the Python library \"cvxpy\" to do so, more information can be found [here](http://www.cvxpy.org/).\n",
    "\n",
    "You may have not used cvxpy before, so make sure it is installed using your terminal and the command `pip install cvxpy`.\n",
    "\n",
    "The four important commands to be used here are:\n",
    "\n",
    "- `cp.Variable()` where you either don't include antything between `()` or, if the variable is an array with multiple elements, the number of elements.\n",
    "- `cp.Minimize()` or `cp.Maximize`, with between the parentheses the element to be maximized.\n",
    "- `cp.Problem(objective, constraints)`, the objective is generally a stored minimization or maximization objective, the constraints are listed constraints. Constraints can be added by a \"+\" sign. \n",
    "- Next, you should store your `cp.Problem` in an object and use `object.solve()` to solve the optimization problem.\n",
    "\n",
    "To get more clarity, we strongly recommend to look at the example here. "
   ]
  },
  {
   "cell_type": "markdown",
   "metadata": {},
   "source": [
    "Recall that we're trying to solve this problem:\n",
    "\n",
    "$ w x^{(i)} + b \\geq 1$  if $y ^{(i)} = 1$\n",
    "\n",
    "$ w x^{(i)} + b \\leq -1$  if $y ^{(i)} = -1$\n",
    "\n",
    "And as an objective function we're maximizing $\\dfrac{2}{\\lVert w \\rVert}$. To make things easier, we'll minimizing $\\lVert w \\rVert$"
   ]
  },
  {
   "cell_type": "markdown",
   "metadata": {},
   "source": [
    "Note that $y^{(i)}$ is the class label here. Looking at our data the labels are stored in `labels`. Let's have a look at the labels by printing them below."
   ]
  },
  {
   "cell_type": "code",
   "execution_count": 2,
   "metadata": {},
   "outputs": [
    {
     "data": {
      "text/plain": [
       "array([0, 0, 0, 1, 0, 1, 0, 0, 1, 0, 1, 1, 0, 0, 1, 0, 0, 1, 1, 0, 0, 1,\n",
       "       1, 0, 1, 0, 1, 0, 0, 0, 0, 0, 0, 1, 0, 0, 0, 1, 1, 0, 1, 0, 1, 1,\n",
       "       1, 1, 0, 0, 1, 0, 0, 0, 1, 1, 1, 0, 0, 1, 1, 1, 0, 0, 1, 1, 1, 1,\n",
       "       0, 1, 0, 1, 1, 0, 0, 1, 0, 1, 0, 1, 0, 1, 1, 0, 1, 1, 0, 0, 1, 1,\n",
       "       1, 0, 1, 1, 0, 0, 1, 1, 0, 1, 1, 0])"
      ]
     },
     "execution_count": 2,
     "metadata": {},
     "output_type": "execute_result"
    }
   ],
   "source": [
    "labels"
   ]
  },
  {
   "cell_type": "code",
   "execution_count": 3,
   "metadata": {},
   "outputs": [
    {
     "data": {
      "text/plain": [
       "array([[ 5.06326521, -6.06306418],\n",
       "       [ 6.10902399, -5.27479172],\n",
       "       [ 3.42517616, -4.43475028],\n",
       "       [-7.22783202, -1.31979044],\n",
       "       [ 5.08871175, -4.4942579 ]])"
      ]
     },
     "execution_count": 3,
     "metadata": {},
     "output_type": "execute_result"
    }
   ],
   "source": [
    "X[:5,:]"
   ]
  },
  {
   "cell_type": "markdown",
   "metadata": {},
   "source": [
    "Before we start to write down the optimization problem, let's split our data in the two classes. Name them `class_1` and `class_2`."
   ]
  },
  {
   "cell_type": "code",
   "execution_count": 4,
   "metadata": {},
   "outputs": [],
   "source": [
    "class_1 = X[labels==0]\n",
    "class_2 = X[labels==1]"
   ]
  },
  {
   "cell_type": "markdown",
   "metadata": {},
   "source": [
    "Let's find a wat to create a hyperplane (in this case, a line) that can maximize the difference between the two classes. \n",
    "- First, `import cvxpy as cp`\n",
    "- Next, define the variables. note that b and w are variables (what are the dimensions?)\n",
    "- Then, build the constraints. We have two constraints here\n",
    "- After that, use \"+\" to group the constraints togethes\n",
    "- The next step is to define the objective function\n",
    "- After that, define the problem using `cp.Problem`\n",
    "- Solve the problem using `.solve`\n",
    "- After that, print the problem status (however you defined the problem, and attach `.status`."
   ]
  },
  {
   "cell_type": "code",
   "execution_count": 9,
   "metadata": {},
   "outputs": [
    {
     "name": "stdout",
     "output_type": "stream",
     "text": [
      "Package              Version  \r\n",
      "-------------------- ---------\r\n",
      "absl-py              0.7.0    \r\n",
      "appnope              0.1.0    \r\n",
      "asn1crypto           0.24.0   \r\n",
      "astor                0.7.1    \r\n",
      "atomicwrites         1.3.0    \r\n",
      "attrs                18.2.0   \r\n",
      "backcall             0.1.0    \r\n",
      "bleach               1.5.0    \r\n",
      "certifi              2019.3.9 \r\n",
      "cffi                 1.11.5   \r\n",
      "chardet              3.0.4    \r\n",
      "convertdate          2.1.3    \r\n",
      "cryptography         2.3.1    \r\n",
      "cryptography-vectors 2.3.1    \r\n",
      "cvxpy                1.0.24   \r\n",
      "cycler               0.10.0   \r\n",
      "Cython               0.29.7   \r\n",
      "decorator            4.3.0    \r\n",
      "dill                 0.2.9    \r\n",
      "ecos                 2.0.5    \r\n",
      "entrypoints          0.3      \r\n",
      "ephem                3.7.6.0  \r\n",
      "fastcache            1.1.0    \r\n",
      "fbprophet            0.5      \r\n",
      "future               0.17.1   \r\n",
      "gast                 0.2.2    \r\n",
      "graphviz             0.10.1   \r\n",
      "grpcio               1.18.0   \r\n",
      "h5py                 2.9.0    \r\n",
      "holidays             0.9.10   \r\n",
      "html5lib             0.9999999\r\n",
      "idna                 2.7      \r\n",
      "ipykernel            5.1.0    \r\n",
      "ipynb                0.5.1    \r\n",
      "ipython              6.5.0    \r\n",
      "ipython-genutils     0.2.0    \r\n",
      "jedi                 0.12.1   \r\n",
      "Jinja2               2.10     \r\n",
      "jsonschema           2.6.0    \r\n",
      "jupyter-client       5.2.4    \r\n",
      "jupyter-core         4.4.0    \r\n",
      "Keras                2.2.1    \r\n",
      "Keras-Applications   1.0.4    \r\n",
      "Keras-Preprocessing  1.0.2    \r\n",
      "kiwisolver           1.0.1    \r\n",
      "lunardate            0.2.0    \r\n",
      "Markdown             3.0.1    \r\n",
      "MarkupSafe           1.1.0    \r\n",
      "matplotlib           3.0.3    \r\n",
      "mistune              0.8.4    \r\n",
      "mkl-fft              1.0.6    \r\n",
      "mkl-random           1.0.1    \r\n",
      "more-itertools       6.0.0    \r\n",
      "multiprocess         0.70.7   \r\n",
      "nb-conda             2.2.1    \r\n",
      "nb-conda-kernels     2.2.0    \r\n",
      "nbconvert            5.3.1    \r\n",
      "nbformat             4.4.0    \r\n",
      "networkx             2.3      \r\n",
      "nose                 1.3.7    \r\n",
      "notebook             5.7.4    \r\n",
      "numpy                1.16.3   \r\n",
      "obscure              1.0.1    \r\n",
      "osqp                 0.4.1    \r\n",
      "pandas               0.23.4   \r\n",
      "pandocfilters        1.4.2    \r\n",
      "parso                0.3.1    \r\n",
      "patsy                0.5.1    \r\n",
      "pexpect              4.6.0    \r\n",
      "pickleshare          0.7.4    \r\n",
      "pip                  19.1.1   \r\n",
      "plotly               3.1.0    \r\n",
      "pluggy               0.8.1    \r\n",
      "prometheus-client    0.5.0    \r\n",
      "prompt-toolkit       1.0.15   \r\n",
      "protobuf             3.6.1    \r\n",
      "ptyprocess           0.6.0    \r\n",
      "py                   1.7.0    \r\n",
      "pycparser            2.18     \r\n",
      "Pygments             2.2.0    \r\n",
      "pyOpenSSL            18.0.0   \r\n",
      "pyparsing            2.3.1    \r\n",
      "PySocks              1.6.8    \r\n",
      "pystan               2.18.0.0 \r\n",
      "pytest               3.7.0    \r\n",
      "python-dateutil      2.7.5    \r\n",
      "pytz                 2018.5   \r\n",
      "PyYAML               3.13     \r\n",
      "pyzmq                17.1.2   \r\n",
      "requests             2.19.1   \r\n",
      "retrying             1.3.3    \r\n",
      "scikit-learn         0.20.1   \r\n",
      "scipy                1.1.0    \r\n",
      "scs                  2.0.2    \r\n",
      "seaborn              0.9.0    \r\n",
      "Send2Trash           1.5.0    \r\n",
      "setuptools           40.0.0   \r\n",
      "simplegeneric        0.8.1    \r\n",
      "six                  1.11.0   \r\n",
      "statsmodels          0.9.0    \r\n",
      "tensorboard          1.6.0    \r\n",
      "tensorflow           1.6.0    \r\n",
      "termcolor            1.1.0    \r\n",
      "terminado            0.8.1    \r\n",
      "testpath             0.4.2    \r\n",
      "tornado              5.1.1    \r\n",
      "traitlets            4.3.2    \r\n",
      "urllib3              1.23     \r\n",
      "wcwidth              0.1.7    \r\n",
      "webencodings         0.5.1    \r\n",
      "Werkzeug             0.14.1   \r\n",
      "wheel                0.31.1   \r\n",
      "xlrd                 1.1.0    \r\n"
     ]
    }
   ],
   "source": [
    "!pip list"
   ]
  },
  {
   "cell_type": "code",
   "execution_count": 7,
   "metadata": {},
   "outputs": [
    {
     "ename": "ModuleNotFoundError",
     "evalue": "No module named 'cvxpy'",
     "output_type": "error",
     "traceback": [
      "\u001b[0;31m---------------------------------------------------------------------------\u001b[0m",
      "\u001b[0;31mModuleNotFoundError\u001b[0m                       Traceback (most recent call last)",
      "\u001b[0;32m<ipython-input-7-fe5ab8d28168>\u001b[0m in \u001b[0;36m<module>\u001b[0;34m()\u001b[0m\n\u001b[0;32m----> 1\u001b[0;31m \u001b[0;32mimport\u001b[0m \u001b[0mcvxpy\u001b[0m \u001b[0;32mas\u001b[0m \u001b[0mcp\u001b[0m\u001b[0;34m\u001b[0m\u001b[0;34m\u001b[0m\u001b[0m\n\u001b[0m",
      "\u001b[0;31mModuleNotFoundError\u001b[0m: No module named 'cvxpy'"
     ]
    }
   ],
   "source": [
    "import cvxpy as cp "
   ]
  },
  {
   "cell_type": "code",
   "execution_count": null,
   "metadata": {},
   "outputs": [],
   "source": [
    "\n",
    "\n",
    "# Define the variables\n",
    "\n",
    "\n",
    "# Define the constraints\n",
    "\n",
    "\n",
    "# Sum the constraints\n",
    "\n",
    "\n",
    "# Define the objective. Hint: use cp.norm\n",
    "\n",
    "\n",
    "# Add objective and constraint in the problem\n",
    "\n",
    "\n",
    "# Solve the problem\n"
   ]
  },
  {
   "cell_type": "markdown",
   "metadata": {},
   "source": [
    "Below, we provide you with a helper function to plot your result."
   ]
  },
  {
   "cell_type": "code",
   "execution_count": null,
   "metadata": {},
   "outputs": [],
   "source": [
    "## Define a helper function for plotting the results, the decision plane, and the supporting planes\n",
    "\n",
    "def plotBoundaries(x, y, w, b):\n",
    "    # Takes in a set of datapoints x and y for two clusters,\n",
    "    d1_min = np.min([x[:,0],y[:,0]])\n",
    "    d1_max = np.max([x[:,0],y[:,0]])\n",
    "    # Line form: (-a[0] * x - b ) / a[1]\n",
    "    d2_at_mind1 = (-w[0]*d1_min - b ) / w[1]\n",
    "    d2_at_maxd1 = (-w[0]*d1_max - b ) / w[1]\n",
    "    sup_up_at_mind1 = (-w[0]*d1_min - b + 1 ) / w[1]\n",
    "    sup_up_at_maxd1 = (-w[0]*d1_max - b + 1 ) / w[1]\n",
    "    sup_dn_at_mind1 = (-w[0]*d1_min - b - 1 ) / w[1]\n",
    "    sup_dn_at_maxd1 = (-w[0]*d1_max - b - 1 ) / w[1]\n",
    "\n",
    "    # Plot the clusters!\n",
    "    plt.scatter(x[:,0],x[:,1],color='purple')\n",
    "    plt.scatter(y[:,0],y[:,1],color='yellow')\n",
    "    plt.plot([d1_min,d1_max],[d2_at_mind1 ,d2_at_maxd1],color='black')\n",
    "    plt.plot([d1_min,d1_max],[sup_up_at_mind1,sup_up_at_maxd1],'-.',color='blue')\n",
    "    plt.plot([d1_min,d1_max],[sup_dn_at_mind1,sup_dn_at_maxd1],'-.',color='blue')\n",
    "    plt.ylim([np.floor(np.min([x[:,1],y[:,1]])),np.ceil(np.max([x[:,1],y[:,1]]))])"
   ]
  },
  {
   "cell_type": "markdown",
   "metadata": {},
   "source": [
    "Now use the helper function to plot your result. To get the values of `w` and `b`. use the two variables with `.value`. The two first arguments should be the two classes, `class_1` and `class_2`."
   ]
  },
  {
   "cell_type": "code",
   "execution_count": null,
   "metadata": {},
   "outputs": [],
   "source": []
  },
  {
   "cell_type": "code",
   "execution_count": null,
   "metadata": {},
   "outputs": [],
   "source": []
  },
  {
   "cell_type": "markdown",
   "metadata": {},
   "source": [
    "## A more complex problem"
   ]
  },
  {
   "cell_type": "markdown",
   "metadata": {},
   "source": [
    "Let's look at another problem by running the code below. It's clear that now, the two classes are not perfectly linearly separable."
   ]
  },
  {
   "cell_type": "code",
   "execution_count": null,
   "metadata": {},
   "outputs": [],
   "source": [
    "from sklearn.datasets import make_blobs\n",
    "import matplotlib.pyplot as plt\n",
    "%matplotlib inline  \n",
    "import numpy as np\n",
    "\n",
    "plt.figure(figsize=(5, 5))\n",
    "\n",
    "plt.title(\"Two blobs\")\n",
    "X, labels = make_blobs(n_features = 2, centers = 2, cluster_std=3,  random_state = 123)\n",
    "plt.scatter(X[:, 0], X[:, 1], c = labels, s=25);"
   ]
  },
  {
   "cell_type": "markdown",
   "metadata": {},
   "source": [
    "Copy your optimization code from the Max Margin Classifier and look at the problem status. What do you see?"
   ]
  },
  {
   "cell_type": "code",
   "execution_count": null,
   "metadata": {},
   "outputs": [],
   "source": []
  },
  {
   "cell_type": "code",
   "execution_count": null,
   "metadata": {},
   "outputs": [],
   "source": [
    "# copy the optimization code"
   ]
  },
  {
   "cell_type": "markdown",
   "metadata": {},
   "source": [
    "### Explain what's happening"
   ]
  },
  {
   "cell_type": "markdown",
   "metadata": {},
   "source": [
    "The problem status is \"infeasible\": the problem is not linearly separable, in other words, we cannot draw one straight line that separates the two classes."
   ]
  },
  {
   "cell_type": "markdown",
   "metadata": {},
   "source": [
    "## Building a Soft Margin Classifier\n",
    "\n",
    "To solve this problem, you'll need to \"relax\" your constraints and allow for items that are not correctly classified. This is where the Soft Margin Classifier comes in! As a refresher, this is the formulation for the Soft Margin Classifier:\n",
    "\n",
    "$$ b + w_Tx^{(i)} \\geq 1-\\xi^{(i)}  \\text{     if     } y ^{(i)} = 1$$\n",
    "\n",
    "$$ b + w_Tx^{(i)} \\leq -1+\\xi^{(i)}  \\text{     if     } y ^{(i)} = -1$$\n",
    "\n",
    "\n",
    "The objective function is \n",
    "\n",
    " $$\\dfrac{1}{2}\\lVert w \\rVert^2+ C(\\sum_i \\xi^{(i)})$$\n",
    " \n",
    " We created the new data set again below. Let's use the code for the SVM optimization again, but adjust for the slack parameters $\\xi$ (ksi or xi).\n",
    " \n",
    "Some important things to note:\n",
    "- Every $\\xi$ needs to be positive, that should be added as constraints\n",
    "- Your objective needs to be changed as well\n",
    "- Allow for a \"hyperparameter\" C which you set to 1 at first and you can change accordingly. Describe how your result changes.\n"
   ]
  },
  {
   "cell_type": "code",
   "execution_count": null,
   "metadata": {},
   "outputs": [],
   "source": [
    "from sklearn.datasets import make_blobs\n",
    "import matplotlib.pyplot as plt\n",
    "%matplotlib inline  \n",
    "import numpy as np\n",
    "\n",
    "plt.figure(figsize=(5, 5))\n",
    "\n",
    "plt.title(\"Two blobs\")\n",
    "X, labels = make_blobs(n_features = 2, centers = 2, cluster_std=3,  random_state = 123)\n",
    "plt.scatter(X[:, 0], X[:, 1], c = labels, s=25);"
   ]
  },
  {
   "cell_type": "code",
   "execution_count": null,
   "metadata": {},
   "outputs": [],
   "source": [
    "#reassign the class labels\n"
   ]
  },
  {
   "cell_type": "code",
   "execution_count": null,
   "metadata": {},
   "outputs": [],
   "source": [
    "\n",
    "# Define the variables\n",
    "\n",
    "\n",
    "# Define the constraints\n",
    "\n",
    "\n",
    "\n",
    "\n",
    "\n",
    "# Sum the constraints\n",
    "\n",
    "# Define the objective. Hint: use cp.norm. Add in a C hyperparameter and assume 1 at first\n",
    "\n",
    "\n",
    "# Add objective and constraint in the problem\n",
    "\n",
    "\n",
    "# Solve the problem\n",
    "\n"
   ]
  },
  {
   "cell_type": "markdown",
   "metadata": {},
   "source": [
    "Plot your result again"
   ]
  },
  {
   "cell_type": "code",
   "execution_count": null,
   "metadata": {},
   "outputs": [],
   "source": [
    "# your code here"
   ]
  },
  {
   "cell_type": "markdown",
   "metadata": {},
   "source": [
    "Now go ahead and experiment with the hyperparameter C (making it both larger and smaller than 1). What do you see?"
   ]
  },
  {
   "cell_type": "markdown",
   "metadata": {},
   "source": [
    "## Summary"
   ]
  },
  {
   "cell_type": "markdown",
   "metadata": {},
   "source": [
    "Great! You now understand the rationale behind support vector machines. Wouldn't it be great to have a library that did this for you? Well, you're lucky: scikit-learn has an SVM-module which automizes all of this. In the next lab, you'll learn how to use this scikit-learn module!"
   ]
  }
 ],
 "metadata": {
  "kernelspec": {
   "display_name": "learn-env",
   "language": "python",
   "name": "learn-env"
  },
  "language_info": {
   "codemirror_mode": {
    "name": "ipython",
    "version": 3
   },
   "file_extension": ".py",
   "mimetype": "text/x-python",
   "name": "python",
   "nbconvert_exporter": "python",
   "pygments_lexer": "ipython3",
   "version": "3.7.3"
  }
 },
 "nbformat": 4,
 "nbformat_minor": 2
}
